{
  "nbformat": 4,
  "nbformat_minor": 0,
  "metadata": {
    "colab": {
      "provenance": [],
      "authorship_tag": "ABX9TyNzRsiWmixvSUAkZlkDFuCT",
      "include_colab_link": true
    },
    "kernelspec": {
      "name": "python3",
      "display_name": "Python 3"
    },
    "language_info": {
      "name": "python"
    }
  },
  "cells": [
    {
      "cell_type": "markdown",
      "metadata": {
        "id": "view-in-github",
        "colab_type": "text"
      },
      "source": [
        "<a href=\"https://colab.research.google.com/github/AndreiTugaoen/OOP-58001/blob/main/OOP_Concepts_Part_2.ipynb\" target=\"_parent\"><img src=\"https://colab.research.google.com/assets/colab-badge.svg\" alt=\"Open In Colab\"/></a>"
      ]
    },
    {
      "cell_type": "code",
      "execution_count": 7,
      "metadata": {
        "colab": {
          "base_uri": "https://localhost:8080/"
        },
        "id": "rKCw_dxsU3mv",
        "outputId": "c10402e5-b54e-41be-8d2f-c4a8cc6bc535"
      },
      "outputs": [
        {
          "output_type": "stream",
          "name": "stdout",
          "text": [
            "Griffon Vulture flies above clouds\n",
            "Common Crane flies above clouds\n",
            "Emu is the national bird of Philippines\n"
          ]
        }
      ],
      "source": [
        "class Birds:\n",
        "  def __init__(self, bird_name):\n",
        "    self.bird_name = bird_name\n",
        "  def flying_birds(self):\n",
        "    print(f\"{self.bird_name} flies above clouds\")\n",
        "  def non_flying_birds(self):\n",
        "    print(f\"{self.bird_name} is the national bird of Philippines\")\n",
        "\n",
        "vulture = Birds(\"Griffon Vulture\")\n",
        "crane = Birds(\"Common Crane\")\n",
        "emu = Birds(\"Emu\")\n",
        "\n",
        "vulture.flying_birds()\n",
        "crane.flying_birds()\n",
        "emu.non_flying_birds()"
      ]
    },
    {
      "cell_type": "code",
      "source": [
        "#Encapsulation\n",
        "\n",
        "class foo:\n",
        "  def __init__(self, a, b):\n",
        "    self.__a = a\n",
        "    self.__b = b\n",
        "  def add(self):\n",
        "    return self.__a + self.__b\n",
        "\n",
        "foo_object = foo(3, 4)\n",
        "foo_object.add()\n",
        "foo_object.a = 5\n",
        "foo_object.add()"
      ],
      "metadata": {
        "colab": {
          "base_uri": "https://localhost:8080/"
        },
        "id": "PWiSIWuIZC6N",
        "outputId": "7377e9fe-8027-46ae-e5a3-fdb5fb4849fb"
      },
      "execution_count": 11,
      "outputs": [
        {
          "output_type": "execute_result",
          "data": {
            "text/plain": [
              "7"
            ]
          },
          "metadata": {},
          "execution_count": 11
        }
      ]
    },
    {
      "cell_type": "code",
      "source": [
        "class Counter:\n",
        "  def __init__(self):\n",
        "    self.current = 0\n",
        "\n",
        "  def increment(self):\n",
        "    self.current += 1\n",
        "\n",
        "  def value(self):\n",
        "    return self.current\n",
        "\n",
        "  def reset(self):\n",
        "    self.current = 0\n",
        "\n",
        "counter = Counter()\n",
        "counter.increment()\n",
        "counter.value()"
      ],
      "metadata": {
        "colab": {
          "base_uri": "https://localhost:8080/"
        },
        "id": "yLgK3PbtcJqF",
        "outputId": "21c7c089-3fb6-4a7c-8b1e-42d879ddd8c9"
      },
      "execution_count": 13,
      "outputs": [
        {
          "output_type": "execute_result",
          "data": {
            "text/plain": [
              "1"
            ]
          },
          "metadata": {},
          "execution_count": 13
        }
      ]
    },
    {
      "cell_type": "code",
      "source": [
        "#Inheritance\n",
        "\n",
        "class Person:\n",
        "  def __init__(self, name, birthdate):\n",
        "    self.name = name\n",
        "    self.birthdate = birthdate\n",
        "  def display(self):\n",
        "    print(f\"My name is\", self.name)\n",
        "    print(f\"My Birthdate\", self.birthdate)\n",
        "class Student(Person):\n",
        "  pass\n",
        "class Teacher(Person):\n",
        "  pass\n",
        "\n",
        "student = Student(\"Andrei\", \"October 12, 2004\")\n",
        "student.display()\n",
        "teacher = Teacher(\"Ana\", \"Feb 14, 1990\")\n",
        "teacher.display()"
      ],
      "metadata": {
        "colab": {
          "base_uri": "https://localhost:8080/"
        },
        "id": "_850EVFRedKU",
        "outputId": "0243df4c-6118-4869-a824-5206987d7352"
      },
      "execution_count": 21,
      "outputs": [
        {
          "output_type": "stream",
          "name": "stdout",
          "text": [
            "My name is Andrei\n",
            "My Birthdate October 12, 2004\n",
            "My name is Ana\n",
            "My Birthdate Feb 14, 1990\n"
          ]
        }
      ]
    },
    {
      "cell_type": "code",
      "source": [
        "# create a class name Shapes (5 shapes)\n",
        "# attributes sides\n",
        "# create a function/method that displays the no. of sides of each shape\n",
        "# apply inheritance and encapsulation\n",
        "\n",
        "class Shapes():\n",
        "  def __init__(self, side, shape):\n",
        "    self.sides = side \n",
        "    self.shape = shape\n",
        "  def display(self):\n",
        "    print(f\"This shape\", self.shape)\n",
        "    print(f\"It has\", self.sides)\n",
        "  \n",
        "class Circle(Shapes):\n",
        "  pass\n",
        "class Triangle(Shapes):\n",
        "  pass\n",
        "class Square(Shapes):\n",
        "  pass\n",
        "class Pentagon(Shapes):\n",
        "  pass\n",
        "class Octagon(Shapes):\n",
        "  pass\n",
        "\n",
        "circle = Circle(\"Circle\", \"0\")\n",
        "circle.display()\n",
        "triangle = Triangle(\"Triangle\" , \"3\")\n",
        "triangle.display()\n",
        "square = Square(\"Square\" , \"4\")\n",
        "square.display()\n",
        "pentagon = Pentagon(\"Pentagon\" , \"5\")\n",
        "pentagon.display()\n",
        "octagon = Octagon(\"octagon\" , \"8\")\n",
        "octagon.display()"
      ],
      "metadata": {
        "colab": {
          "base_uri": "https://localhost:8080/"
        },
        "id": "caOFE6PEghZE",
        "outputId": "ae9deff4-f013-4ba6-8a43-993cb9a155d9"
      },
      "execution_count": 33,
      "outputs": [
        {
          "output_type": "stream",
          "name": "stdout",
          "text": [
            "This shape 0\n",
            "It has Circle\n",
            "This shape 3\n",
            "It has Triangle\n",
            "This shape 4\n",
            "It has Square\n",
            "This shape 5\n",
            "It has Pentagon\n",
            "This shape 8\n",
            "It has octagon\n"
          ]
        }
      ]
    }
  ]
}
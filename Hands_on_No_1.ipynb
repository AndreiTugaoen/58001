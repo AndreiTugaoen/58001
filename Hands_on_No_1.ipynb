{
  "nbformat": 4,
  "nbformat_minor": 0,
  "metadata": {
    "colab": {
      "provenance": [],
      "authorship_tag": "ABX9TyPEvYQ3m3TO7m0Q29J+2jjw",
      "include_colab_link": true
    },
    "kernelspec": {
      "name": "python3",
      "display_name": "Python 3"
    },
    "language_info": {
      "name": "python"
    }
  },
  "cells": [
    {
      "cell_type": "markdown",
      "metadata": {
        "id": "view-in-github",
        "colab_type": "text"
      },
      "source": [
        "<a href=\"https://colab.research.google.com/github/AndreiTugaoen/OOP-58001/blob/main/Hands_on_No_1.ipynb\" target=\"_parent\"><img src=\"https://colab.research.google.com/assets/colab-badge.svg\" alt=\"Open In Colab\"/></a>"
      ]
    },
    {
      "cell_type": "code",
      "source": [
        "class Person:\n",
        "  def __init__(self, student, pre, mid, fin):\n",
        "    self.__pre = pre\n",
        "    self.__mid = mid\n",
        "    self.__fin = fin\n",
        "    self.__student = student\n",
        "  \n",
        "  def display(self):\n",
        "    print(f\"The Grade of \", self.__student, \"in Prelims is \", self.__pre, \"in Midterms is \", self.__mid,\"in Finals is\", self.__fin, \"The Average is\", self.grade())  \n",
        "  \n",
        "  def grade(self):  \n",
        "    return (self.__pre + self.__mid + self.__fin)/3\n",
        "\n",
        "class Std1(Person):\n",
        "  pass\n",
        "class Std2(Person):\n",
        "  pass\n",
        "class Std3(Person):\n",
        "  pass\n",
        "  \n",
        "std1 = Std1(\"Student1\", 75, 85, 90)\n",
        "std1.display()\n",
        "std2 = Std2(\"Student2\", 65, 75, 80)\n",
        "std2.display()\n",
        "std3 = Std3(\"Student3\", 69, 79, 99)\n",
        "std3.display()"
      ],
      "metadata": {
        "colab": {
          "base_uri": "https://localhost:8080/"
        },
        "id": "PSieEnc6aeTn",
        "outputId": "834da232-a2c0-474f-9a2b-a3be0f6929e3"
      },
      "execution_count": 49,
      "outputs": [
        {
          "output_type": "stream",
          "name": "stdout",
          "text": [
            "The Grade of  Student1 in Prelims is  75 in Midterms is  85 in Finals is 90 The Average is 83.33333333333333\n",
            "The Grade of  Student2 in Prelims is  65 in Midterms is  75 in Finals is 80 The Average is 73.33333333333333\n",
            "The Grade of  Student3 in Prelims is  69 in Midterms is  79 in Finals is 99 The Average is 82.33333333333333\n"
          ]
        }
      ]
    }
  ]
}
{
  "nbformat": 4,
  "nbformat_minor": 0,
  "metadata": {
    "colab": {
      "provenance": [],
      "authorship_tag": "ABX9TyNbrqejuDqPRgF51hXrwgnU",
      "include_colab_link": true
    },
    "kernelspec": {
      "name": "python3",
      "display_name": "Python 3"
    },
    "language_info": {
      "name": "python"
    }
  },
  "cells": [
    {
      "cell_type": "markdown",
      "metadata": {
        "id": "view-in-github",
        "colab_type": "text"
      },
      "source": [
        "<a href=\"https://colab.research.google.com/github/AndreiTugaoen/OOP-58001/blob/main/Control_Structure.ipynb\" target=\"_parent\"><img src=\"https://colab.research.google.com/assets/colab-badge.svg\" alt=\"Open In Colab\"/></a>"
      ]
    },
    {
      "cell_type": "markdown",
      "source": [
        "Conditional Statement"
      ],
      "metadata": {
        "id": "T4HRsLnHEOqy"
      }
    },
    {
      "cell_type": "code",
      "execution_count": null,
      "metadata": {
        "colab": {
          "base_uri": "https://localhost:8080/"
        },
        "id": "_ZnHCAZCENCy",
        "outputId": "c4d40b9f-6a0b-45e9-e779-7e94ef08f35a"
      },
      "outputs": [
        {
          "output_type": "stream",
          "name": "stdout",
          "text": [
            "b is greater than a\n"
          ]
        }
      ],
      "source": [
        "a = 12 \n",
        "b = 100\n",
        "if b>a:\n",
        "  print(\"b is greater than a\")"
      ]
    },
    {
      "cell_type": "markdown",
      "source": [
        "Elif Statement"
      ],
      "metadata": {
        "id": "GJW0PeDvFMnC"
      }
    },
    {
      "cell_type": "code",
      "source": [
        "a = 12\n",
        "b = 12 \n",
        "if b>a:\n",
        "  print(\"b is greater than a\")\n",
        "elif a == b:\n",
        "  print(\"a and b are equal\")\n",
        "else:\n",
        "  print()"
      ],
      "metadata": {
        "id": "W9k2FZjRFmoB"
      },
      "execution_count": null,
      "outputs": []
    },
    {
      "cell_type": "markdown",
      "source": [],
      "metadata": {
        "id": "RrVmJoU9F-NA"
      }
    },
    {
      "cell_type": "code",
      "source": [
        "#if statement\n",
        "if 5>2:\n",
        "  print(\"five is greater than 2\")"
      ],
      "metadata": {
        "colab": {
          "base_uri": "https://localhost:8080/"
        },
        "id": "VXBertB9F-tg",
        "outputId": "c0d197aa-0389-4e0b-aa5f-a7e20d99736d"
      },
      "execution_count": null,
      "outputs": [
        {
          "output_type": "stream",
          "name": "stdout",
          "text": [
            "five is greater than 2\n"
          ]
        }
      ]
    },
    {
      "cell_type": "code",
      "source": [
        "x = input()\n",
        "y = input()\n",
        "\n",
        "if x>y:\n",
        "  print(x + \" x is greater than \" + y)"
      ],
      "metadata": {
        "colab": {
          "base_uri": "https://localhost:8080/"
        },
        "id": "n1je9vEAGLGa",
        "outputId": "d840c222-cbef-4e91-d941-ed9b8e7d8df3"
      },
      "execution_count": null,
      "outputs": [
        {
          "output_type": "stream",
          "name": "stdout",
          "text": [
            "5\n",
            "2\n",
            "5x is greater than 2\n"
          ]
        }
      ]
    },
    {
      "cell_type": "code",
      "source": [
        "#Elif Statement\n",
        "a = 100\n",
        "b = 1000 \n",
        "\n",
        "if a > b:\n",
        "  print(\"a is greater than b\")\n",
        "elif b > a:\n",
        "  print(\"b is greater than a\")"
      ],
      "metadata": {
        "colab": {
          "base_uri": "https://localhost:8080/"
        },
        "id": "mYsK-8yeHcUg",
        "outputId": "4f4460d3-b809-4538-ce1f-8ab11922de69"
      },
      "execution_count": null,
      "outputs": [
        {
          "output_type": "stream",
          "name": "stdout",
          "text": [
            "b is greater than a\n"
          ]
        }
      ]
    },
    {
      "cell_type": "code",
      "source": [
        "#Else Statement\n",
        "if a>b:\n",
        "  print(\"a is greater than b\")\n",
        "elif b>a:\n",
        "  print(\"b is greater than a\")\n",
        "else:\n",
        "  print(\"a and b are equal\")"
      ],
      "metadata": {
        "colab": {
          "base_uri": "https://localhost:8080/"
        },
        "id": "dB6f2aHNH3lA",
        "outputId": "d4760596-ab09-4e9c-c85f-72f23a73917a"
      },
      "execution_count": null,
      "outputs": [
        {
          "output_type": "stream",
          "name": "stdout",
          "text": [
            "b is greater than a\n"
          ]
        }
      ]
    },
    {
      "cell_type": "markdown",
      "source": [
        "Nested If"
      ],
      "metadata": {
        "id": "avFEfiL6IrXw"
      }
    },
    {
      "cell_type": "code",
      "source": [
        "x = 41 \n",
        "\n",
        "if x > 10:\n",
        "  print(\"above 10\")\n",
        "  if x > 20:\n",
        "    print(\"and also above 20\")\n",
        "    if x > 30:\n",
        "      print(\"and also above 30\")\n",
        "      if x > 40: \n",
        "        print(\"and also above 40\")\n",
        "        if x < 50:\n",
        "          print(\"but below 50\")\n",
        "        else:\n",
        "          print(\"above 50\")\n",
        "      else:\n",
        "        print(\"below 40\")\n",
        "  else:\n",
        "    print(\"below 30\")"
      ],
      "metadata": {
        "colab": {
          "base_uri": "https://localhost:8080/"
        },
        "id": "kkqU1-ICItQA",
        "outputId": "50dc7c8c-f6e5-4279-dae3-3d63c80eeee3"
      },
      "execution_count": null,
      "outputs": [
        {
          "output_type": "stream",
          "name": "stdout",
          "text": [
            "above 10\n",
            "and also above 20\n",
            "and also above 30\n",
            "and also above 40\n",
            "but below 50\n"
          ]
        }
      ]
    },
    {
      "cell_type": "markdown",
      "source": [
        "Example 1 "
      ],
      "metadata": {
        "id": "0Tm887oBMh-Q"
      }
    },
    {
      "cell_type": "code",
      "source": [
        "x = int(input())\n",
        "\n",
        "if x > 18:\n",
        "  print(\"Qualified to vote\")\n",
        "else: \n",
        "  print(\"Not qualified to vote\")"
      ],
      "metadata": {
        "colab": {
          "base_uri": "https://localhost:8080/"
        },
        "id": "nhVgtkCVMwc_",
        "outputId": "53d62f33-c380-4dd9-e5ff-d543ffe35a7d"
      },
      "execution_count": null,
      "outputs": [
        {
          "output_type": "stream",
          "name": "stdout",
          "text": [
            "12\n",
            "Not qualified to vote\n"
          ]
        }
      ]
    },
    {
      "cell_type": "markdown",
      "source": [
        "Example 2"
      ],
      "metadata": {
        "id": "-WTsIX70Mw6f"
      }
    },
    {
      "cell_type": "code",
      "source": [
        "x = int(input())\n",
        "\n",
        "if x > 0:\n",
        "  print(\"Positive\")\n",
        "elif x < 0:\n",
        "  print(\"Negative\")\n",
        "else:\n",
        "  print(\"ZERO\")"
      ],
      "metadata": {
        "colab": {
          "base_uri": "https://localhost:8080/"
        },
        "id": "42DMv9amMym_",
        "outputId": "c84c568a-e37b-4c69-9c7d-ae1f6748c597"
      },
      "execution_count": null,
      "outputs": [
        {
          "output_type": "stream",
          "name": "stdout",
          "text": [
            "0\n",
            "ZERO\n"
          ]
        }
      ]
    },
    {
      "cell_type": "markdown",
      "source": [
        "Example 3"
      ],
      "metadata": {
        "id": "UVaLss0yM3Kf"
      }
    },
    {
      "cell_type": "code",
      "source": [
        "x = int(input(\"Enter Your Grade: \"))\n",
        "\n",
        "if x >= 101:\n",
        "  print(\"Invalid\") \n",
        "elif x >= 70:\n",
        "  print(\"Passed\")\n",
        "elif x >= 65:\n",
        "  print(\"Remidial\")\n",
        "elif x >= 0 :\n",
        "  print(\"Failed\")\n",
        "else: \n",
        "  print(\"Invalid\")"
      ],
      "metadata": {
        "colab": {
          "base_uri": "https://localhost:8080/"
        },
        "id": "RG9dCgZqM5CP",
        "outputId": "57315aa9-ead6-47d4-83c2-66098953779a"
      },
      "execution_count": 1,
      "outputs": [
        {
          "output_type": "stream",
          "name": "stdout",
          "text": [
            "Enter Your Grade: 1014\n",
            "Invalid\n"
          ]
        }
      ]
    }
  ]
}